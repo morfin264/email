{
 "cells": [
  {
   "cell_type": "markdown",
   "metadata": {},
   "source": [
    "установка библиотек "
   ]
  },
  {
   "cell_type": "code",
   "execution_count": 1,
   "metadata": {},
   "outputs": [
    {
     "name": "stdout",
     "output_type": "stream",
     "text": [
      "Requirement already satisfied: pandas in c:\\users\\kikot\\onedrive\\рабочий стол\\vsc\\.venv\\lib\\site-packages (2.1.3)"
     ]
    },
    {
     "name": "stderr",
     "output_type": "stream",
     "text": [
      "\n",
      "[notice] A new release of pip is available: 23.3.1 -> 23.3.2\n",
      "[notice] To update, run: python.exe -m pip install --upgrade pip\n"
     ]
    },
    {
     "name": "stdout",
     "output_type": "stream",
     "text": [
      "\n",
      "Requirement already satisfied: numpy<2,>=1.26.0 in c:\\users\\kikot\\onedrive\\рабочий стол\\vsc\\.venv\\lib\\site-packages (from pandas) (1.26.2)\n",
      "Requirement already satisfied: python-dateutil>=2.8.2 in c:\\users\\kikot\\onedrive\\рабочий стол\\vsc\\.venv\\lib\\site-packages (from pandas) (2.8.2)\n",
      "Requirement already satisfied: pytz>=2020.1 in c:\\users\\kikot\\onedrive\\рабочий стол\\vsc\\.venv\\lib\\site-packages (from pandas) (2023.3.post1)\n",
      "Requirement already satisfied: tzdata>=2022.1 in c:\\users\\kikot\\onedrive\\рабочий стол\\vsc\\.venv\\lib\\site-packages (from pandas) (2023.3)\n",
      "Requirement already satisfied: six>=1.5 in c:\\users\\kikot\\onedrive\\рабочий стол\\vsc\\.venv\\lib\\site-packages (from python-dateutil>=2.8.2->pandas) (1.16.0)\n"
     ]
    }
   ],
   "source": [
    "!pip install pandas"
   ]
  },
  {
   "cell_type": "code",
   "execution_count": 2,
   "metadata": {},
   "outputs": [],
   "source": [
    "import pandas as pd\n",
    "from sklearn.ensemble import RandomForestClassifier\n",
    "from sklearn.model_selection import train_test_split\n",
    "from sklearn.metrics import accuracy_score\n"
   ]
  },
  {
   "cell_type": "markdown",
   "metadata": {},
   "source": [
    "загружаем данные прошлой сессии "
   ]
  },
  {
   "cell_type": "code",
   "execution_count": 3,
   "metadata": {},
   "outputs": [],
   "source": [
    "data= pd.read_csv ('data.csv')"
   ]
  },
  {
   "cell_type": "markdown",
   "metadata": {},
   "source": [
    "выводим ее "
   ]
  },
  {
   "cell_type": "code",
   "execution_count": 4,
   "metadata": {},
   "outputs": [
    {
     "data": {
      "text/html": [
       "<div>\n",
       "<style scoped>\n",
       "    .dataframe tbody tr th:only-of-type {\n",
       "        vertical-align: middle;\n",
       "    }\n",
       "\n",
       "    .dataframe tbody tr th {\n",
       "        vertical-align: top;\n",
       "    }\n",
       "\n",
       "    .dataframe thead th {\n",
       "        text-align: right;\n",
       "    }\n",
       "</style>\n",
       "<table border=\"1\" class=\"dataframe\">\n",
       "  <thead>\n",
       "    <tr style=\"text-align: right;\">\n",
       "      <th></th>\n",
       "      <th>п/п</th>\n",
       "      <th>n документа</th>\n",
       "      <th>регистрации</th>\n",
       "      <th>Исх. Дата</th>\n",
       "      <th>Адресат</th>\n",
       "      <th>Автор</th>\n",
       "      <th>Краткое содержание</th>\n",
       "    </tr>\n",
       "  </thead>\n",
       "  <tbody>\n",
       "    <tr>\n",
       "      <th>0</th>\n",
       "      <td>2</td>\n",
       "      <td>WSR/1-837/2019</td>\n",
       "      <td>09.04.2019</td>\n",
       "      <td>05-338\\n09.04.2019</td>\n",
       "      <td>Уразов Р.Н.</td>\n",
       "      <td>Картошкин С.А. (Министерство просвещения Росси...</td>\n",
       "      <td>Вх - Об участии в совещании по вопросу доработ...</td>\n",
       "    </tr>\n",
       "    <tr>\n",
       "      <th>1</th>\n",
       "      <td>3</td>\n",
       "      <td>WSR/1-835/2019</td>\n",
       "      <td>09.04.2019</td>\n",
       "      <td>И10-14/3137\\n09.04.2019</td>\n",
       "      <td>Уразов Р.Н.</td>\n",
       "      <td>Цивилев С.Е. (Администрация Кемеровской области)</td>\n",
       "      <td>Вх - О командировании Саликовой К. и Глушко Д....</td>\n",
       "    </tr>\n",
       "    <tr>\n",
       "      <th>2</th>\n",
       "      <td>4</td>\n",
       "      <td>WSR/1-834/2019</td>\n",
       "      <td>09.04.2019</td>\n",
       "      <td>Д2/7121-ИС\\n03.04.2019</td>\n",
       "      <td>Иванюк Л.А.</td>\n",
       "      <td>Волков Г.А. (Министерство транспорта Российско...</td>\n",
       "      <td>Вх - Об участии в Чемпионате мира по профессио...</td>\n",
       "    </tr>\n",
       "    <tr>\n",
       "      <th>3</th>\n",
       "      <td>5</td>\n",
       "      <td>WSR/1-833/2019</td>\n",
       "      <td>09.04.2019</td>\n",
       "      <td>15-20/06-911\\n08.04.2019</td>\n",
       "      <td>Уразов Р.Н.</td>\n",
       "      <td>Атанов И.В. (Ставропольский государственный аг...</td>\n",
       "      <td>Вх - Об участии в церемонии открытия Вузовског...</td>\n",
       "    </tr>\n",
       "    <tr>\n",
       "      <th>4</th>\n",
       "      <td>6</td>\n",
       "      <td>WSR/1-831/2019</td>\n",
       "      <td>09.04.2019</td>\n",
       "      <td>Исх01/0403\\n02.04.2019</td>\n",
       "      <td>Миронова С.В.</td>\n",
       "      <td>Островский А.В. (Губернатор Смоленской области)</td>\n",
       "      <td>Вх - Об участии в Чемпионате мира по профессио...</td>\n",
       "    </tr>\n",
       "    <tr>\n",
       "      <th>...</th>\n",
       "      <td>...</td>\n",
       "      <td>...</td>\n",
       "      <td>...</td>\n",
       "      <td>...</td>\n",
       "      <td>...</td>\n",
       "      <td>...</td>\n",
       "      <td>...</td>\n",
       "    </tr>\n",
       "    <tr>\n",
       "      <th>4961</th>\n",
       "      <td>4963</td>\n",
       "      <td>WSR/1.-1749/2017</td>\n",
       "      <td>01.11.2017</td>\n",
       "      <td>11\\n20.10.2017</td>\n",
       "      <td>Уразов Р.Н.</td>\n",
       "      <td>Медведев Д.А. (Аппарат Правительства Российско...</td>\n",
       "      <td>Протокол заседания Президиума Совета при Прези...</td>\n",
       "    </tr>\n",
       "    <tr>\n",
       "      <th>4962</th>\n",
       "      <td>4964</td>\n",
       "      <td>WSR/1.-1751/2017</td>\n",
       "      <td>01.11.2017</td>\n",
       "      <td>ТС-1164/06\\n31.10.2017</td>\n",
       "      <td>Уразов Р.Н.</td>\n",
       "      <td>Синюгина Т.Ю. (Министерство образования и наук...</td>\n",
       "      <td>О проведении 21.11.2017 заседания организацион...</td>\n",
       "    </tr>\n",
       "    <tr>\n",
       "      <th>4963</th>\n",
       "      <td>4965</td>\n",
       "      <td>WSR/1.-1748/2017</td>\n",
       "      <td>01.11.2017</td>\n",
       "      <td>ЛО-95/06пр</td>\n",
       "      <td>Уразов Р.Н.</td>\n",
       "      <td>Огородова Л.М. (Министерство образования и нау...</td>\n",
       "      <td>Протокол заседания рабочей группы приоритетног...</td>\n",
       "    </tr>\n",
       "    <tr>\n",
       "      <th>4964</th>\n",
       "      <td>4966</td>\n",
       "      <td>WSR/1.-1747/2017</td>\n",
       "      <td>01.11.2017</td>\n",
       "      <td>ЛО-93/06пр\\n24.10.2017</td>\n",
       "      <td>Уразов Р.Н.</td>\n",
       "      <td>Огородова Л.М. (Министерство образования и нау...</td>\n",
       "      <td>Протокол заседания рабочей группы приоритетног...</td>\n",
       "    </tr>\n",
       "    <tr>\n",
       "      <th>4965</th>\n",
       "      <td>4967</td>\n",
       "      <td>no info</td>\n",
       "      <td>no info</td>\n",
       "      <td>НА-29/15077\\n18.10.2017</td>\n",
       "      <td>Уразов Р.Н.</td>\n",
       "      <td>Асаул Н.А. (Министерство транспорта Российской...</td>\n",
       "      <td>Участие в Чемпионате WorldSkills Hi-Tech Екате...</td>\n",
       "    </tr>\n",
       "  </tbody>\n",
       "</table>\n",
       "<p>4966 rows × 7 columns</p>\n",
       "</div>"
      ],
      "text/plain": [
       "       п/п       n документа  регистрации                 Исх. Дата  \\\n",
       "0        2    WSR/1-837/2019   09.04.2019        05-338\\n09.04.2019   \n",
       "1        3    WSR/1-835/2019   09.04.2019   И10-14/3137\\n09.04.2019   \n",
       "2        4    WSR/1-834/2019   09.04.2019    Д2/7121-ИС\\n03.04.2019   \n",
       "3        5    WSR/1-833/2019   09.04.2019  15-20/06-911\\n08.04.2019   \n",
       "4        6    WSR/1-831/2019   09.04.2019    Исх01/0403\\n02.04.2019   \n",
       "...    ...               ...          ...                       ...   \n",
       "4961  4963  WSR/1.-1749/2017   01.11.2017            11\\n20.10.2017   \n",
       "4962  4964  WSR/1.-1751/2017   01.11.2017    ТС-1164/06\\n31.10.2017   \n",
       "4963  4965  WSR/1.-1748/2017   01.11.2017                ЛО-95/06пр   \n",
       "4964  4966  WSR/1.-1747/2017   01.11.2017    ЛО-93/06пр\\n24.10.2017   \n",
       "4965  4967           no info      no info   НА-29/15077\\n18.10.2017   \n",
       "\n",
       "            Адресат                                              Автор  \\\n",
       "0       Уразов Р.Н.  Картошкин С.А. (Министерство просвещения Росси...   \n",
       "1       Уразов Р.Н.   Цивилев С.Е. (Администрация Кемеровской области)   \n",
       "2       Иванюк Л.А.  Волков Г.А. (Министерство транспорта Российско...   \n",
       "3       Уразов Р.Н.  Атанов И.В. (Ставропольский государственный аг...   \n",
       "4     Миронова С.В.    Островский А.В. (Губернатор Смоленской области)   \n",
       "...             ...                                                ...   \n",
       "4961    Уразов Р.Н.  Медведев Д.А. (Аппарат Правительства Российско...   \n",
       "4962    Уразов Р.Н.  Синюгина Т.Ю. (Министерство образования и наук...   \n",
       "4963    Уразов Р.Н.  Огородова Л.М. (Министерство образования и нау...   \n",
       "4964    Уразов Р.Н.  Огородова Л.М. (Министерство образования и нау...   \n",
       "4965    Уразов Р.Н.  Асаул Н.А. (Министерство транспорта Российской...   \n",
       "\n",
       "                                     Краткое содержание  \n",
       "0     Вх - Об участии в совещании по вопросу доработ...  \n",
       "1     Вх - О командировании Саликовой К. и Глушко Д....  \n",
       "2     Вх - Об участии в Чемпионате мира по профессио...  \n",
       "3     Вх - Об участии в церемонии открытия Вузовског...  \n",
       "4     Вх - Об участии в Чемпионате мира по профессио...  \n",
       "...                                                 ...  \n",
       "4961  Протокол заседания Президиума Совета при Прези...  \n",
       "4962  О проведении 21.11.2017 заседания организацион...  \n",
       "4963  Протокол заседания рабочей группы приоритетног...  \n",
       "4964  Протокол заседания рабочей группы приоритетног...  \n",
       "4965  Участие в Чемпионате WorldSkills Hi-Tech Екате...  \n",
       "\n",
       "[4966 rows x 7 columns]"
      ]
     },
     "execution_count": 4,
     "metadata": {},
     "output_type": "execute_result"
    }
   ],
   "source": [
    "data"
   ]
  },
  {
   "cell_type": "code",
   "execution_count": 5,
   "metadata": {},
   "outputs": [
    {
     "name": "stdout",
     "output_type": "stream",
     "text": [
      "<class 'pandas.core.frame.DataFrame'>\n",
      "RangeIndex: 4966 entries, 0 to 4965\n",
      "Data columns (total 7 columns):\n",
      " #   Column              Non-Null Count  Dtype \n",
      "---  ------              --------------  ----- \n",
      " 0   п/п                 4966 non-null   int64 \n",
      " 1   n документа         4966 non-null   object\n",
      " 2    регистрации        4966 non-null   object\n",
      " 3   Исх. Дата           4966 non-null   object\n",
      " 4   Адресат             4966 non-null   object\n",
      " 5   Автор               4966 non-null   object\n",
      " 6   Краткое содержание  4966 non-null   object\n",
      "dtypes: int64(1), object(6)\n",
      "memory usage: 271.7+ KB\n"
     ]
    }
   ],
   "source": [
    "data.info()"
   ]
  },
  {
   "cell_type": "code",
   "execution_count": 6,
   "metadata": {},
   "outputs": [
    {
     "data": {
      "text/html": [
       "<div>\n",
       "<style scoped>\n",
       "    .dataframe tbody tr th:only-of-type {\n",
       "        vertical-align: middle;\n",
       "    }\n",
       "\n",
       "    .dataframe tbody tr th {\n",
       "        vertical-align: top;\n",
       "    }\n",
       "\n",
       "    .dataframe thead th {\n",
       "        text-align: right;\n",
       "    }\n",
       "</style>\n",
       "<table border=\"1\" class=\"dataframe\">\n",
       "  <thead>\n",
       "    <tr style=\"text-align: right;\">\n",
       "      <th></th>\n",
       "      <th>п/п</th>\n",
       "      <th>n документа</th>\n",
       "      <th>регистрации</th>\n",
       "      <th>Исх. Дата</th>\n",
       "      <th>Адресат</th>\n",
       "      <th>Автор</th>\n",
       "      <th>Краткое содержание</th>\n",
       "    </tr>\n",
       "  </thead>\n",
       "  <tbody>\n",
       "    <tr>\n",
       "      <th>0</th>\n",
       "      <td>2</td>\n",
       "      <td>WSR/1-837/2019</td>\n",
       "      <td>09.04.2019</td>\n",
       "      <td>05-338\\n09.04.2019</td>\n",
       "      <td>Уразов Р.Н.</td>\n",
       "      <td>Картошкин С.А. (Министерство просвещения Росси...</td>\n",
       "      <td>Вх - Об участии в совещании по вопросу доработ...</td>\n",
       "    </tr>\n",
       "    <tr>\n",
       "      <th>1</th>\n",
       "      <td>3</td>\n",
       "      <td>WSR/1-835/2019</td>\n",
       "      <td>09.04.2019</td>\n",
       "      <td>И10-14/3137\\n09.04.2019</td>\n",
       "      <td>Уразов Р.Н.</td>\n",
       "      <td>Цивилев С.Е. (Администрация Кемеровской области)</td>\n",
       "      <td>Вх - О командировании Саликовой К. и Глушко Д....</td>\n",
       "    </tr>\n",
       "    <tr>\n",
       "      <th>2</th>\n",
       "      <td>4</td>\n",
       "      <td>WSR/1-834/2019</td>\n",
       "      <td>09.04.2019</td>\n",
       "      <td>Д2/7121-ИС\\n03.04.2019</td>\n",
       "      <td>Иванюк Л.А.</td>\n",
       "      <td>Волков Г.А. (Министерство транспорта Российско...</td>\n",
       "      <td>Вх - Об участии в Чемпионате мира по профессио...</td>\n",
       "    </tr>\n",
       "    <tr>\n",
       "      <th>3</th>\n",
       "      <td>5</td>\n",
       "      <td>WSR/1-833/2019</td>\n",
       "      <td>09.04.2019</td>\n",
       "      <td>15-20/06-911\\n08.04.2019</td>\n",
       "      <td>Уразов Р.Н.</td>\n",
       "      <td>Атанов И.В. (Ставропольский государственный аг...</td>\n",
       "      <td>Вх - Об участии в церемонии открытия Вузовског...</td>\n",
       "    </tr>\n",
       "    <tr>\n",
       "      <th>4</th>\n",
       "      <td>6</td>\n",
       "      <td>WSR/1-831/2019</td>\n",
       "      <td>09.04.2019</td>\n",
       "      <td>Исх01/0403\\n02.04.2019</td>\n",
       "      <td>Миронова С.В.</td>\n",
       "      <td>Островский А.В. (Губернатор Смоленской области)</td>\n",
       "      <td>Вх - Об участии в Чемпионате мира по профессио...</td>\n",
       "    </tr>\n",
       "    <tr>\n",
       "      <th>...</th>\n",
       "      <td>...</td>\n",
       "      <td>...</td>\n",
       "      <td>...</td>\n",
       "      <td>...</td>\n",
       "      <td>...</td>\n",
       "      <td>...</td>\n",
       "      <td>...</td>\n",
       "    </tr>\n",
       "    <tr>\n",
       "      <th>4961</th>\n",
       "      <td>4963</td>\n",
       "      <td>WSR/1.-1749/2017</td>\n",
       "      <td>01.11.2017</td>\n",
       "      <td>11\\n20.10.2017</td>\n",
       "      <td>Уразов Р.Н.</td>\n",
       "      <td>Медведев Д.А. (Аппарат Правительства Российско...</td>\n",
       "      <td>Протокол заседания Президиума Совета при Прези...</td>\n",
       "    </tr>\n",
       "    <tr>\n",
       "      <th>4962</th>\n",
       "      <td>4964</td>\n",
       "      <td>WSR/1.-1751/2017</td>\n",
       "      <td>01.11.2017</td>\n",
       "      <td>ТС-1164/06\\n31.10.2017</td>\n",
       "      <td>Уразов Р.Н.</td>\n",
       "      <td>Синюгина Т.Ю. (Министерство образования и наук...</td>\n",
       "      <td>О проведении 21.11.2017 заседания организацион...</td>\n",
       "    </tr>\n",
       "    <tr>\n",
       "      <th>4963</th>\n",
       "      <td>4965</td>\n",
       "      <td>WSR/1.-1748/2017</td>\n",
       "      <td>01.11.2017</td>\n",
       "      <td>ЛО-95/06пр</td>\n",
       "      <td>Уразов Р.Н.</td>\n",
       "      <td>Огородова Л.М. (Министерство образования и нау...</td>\n",
       "      <td>Протокол заседания рабочей группы приоритетног...</td>\n",
       "    </tr>\n",
       "    <tr>\n",
       "      <th>4964</th>\n",
       "      <td>4966</td>\n",
       "      <td>WSR/1.-1747/2017</td>\n",
       "      <td>01.11.2017</td>\n",
       "      <td>ЛО-93/06пр\\n24.10.2017</td>\n",
       "      <td>Уразов Р.Н.</td>\n",
       "      <td>Огородова Л.М. (Министерство образования и нау...</td>\n",
       "      <td>Протокол заседания рабочей группы приоритетног...</td>\n",
       "    </tr>\n",
       "    <tr>\n",
       "      <th>4965</th>\n",
       "      <td>4967</td>\n",
       "      <td>no info</td>\n",
       "      <td>no info</td>\n",
       "      <td>НА-29/15077\\n18.10.2017</td>\n",
       "      <td>Уразов Р.Н.</td>\n",
       "      <td>Асаул Н.А. (Министерство транспорта Российской...</td>\n",
       "      <td>Участие в Чемпионате WorldSkills Hi-Tech Екате...</td>\n",
       "    </tr>\n",
       "  </tbody>\n",
       "</table>\n",
       "<p>4966 rows × 7 columns</p>\n",
       "</div>"
      ],
      "text/plain": [
       "       п/п       n документа  регистрации                 Исх. Дата  \\\n",
       "0        2    WSR/1-837/2019   09.04.2019        05-338\\n09.04.2019   \n",
       "1        3    WSR/1-835/2019   09.04.2019   И10-14/3137\\n09.04.2019   \n",
       "2        4    WSR/1-834/2019   09.04.2019    Д2/7121-ИС\\n03.04.2019   \n",
       "3        5    WSR/1-833/2019   09.04.2019  15-20/06-911\\n08.04.2019   \n",
       "4        6    WSR/1-831/2019   09.04.2019    Исх01/0403\\n02.04.2019   \n",
       "...    ...               ...          ...                       ...   \n",
       "4961  4963  WSR/1.-1749/2017   01.11.2017            11\\n20.10.2017   \n",
       "4962  4964  WSR/1.-1751/2017   01.11.2017    ТС-1164/06\\n31.10.2017   \n",
       "4963  4965  WSR/1.-1748/2017   01.11.2017                ЛО-95/06пр   \n",
       "4964  4966  WSR/1.-1747/2017   01.11.2017    ЛО-93/06пр\\n24.10.2017   \n",
       "4965  4967           no info      no info   НА-29/15077\\n18.10.2017   \n",
       "\n",
       "            Адресат                                              Автор  \\\n",
       "0       Уразов Р.Н.  Картошкин С.А. (Министерство просвещения Росси...   \n",
       "1       Уразов Р.Н.   Цивилев С.Е. (Администрация Кемеровской области)   \n",
       "2       Иванюк Л.А.  Волков Г.А. (Министерство транспорта Российско...   \n",
       "3       Уразов Р.Н.  Атанов И.В. (Ставропольский государственный аг...   \n",
       "4     Миронова С.В.    Островский А.В. (Губернатор Смоленской области)   \n",
       "...             ...                                                ...   \n",
       "4961    Уразов Р.Н.  Медведев Д.А. (Аппарат Правительства Российско...   \n",
       "4962    Уразов Р.Н.  Синюгина Т.Ю. (Министерство образования и наук...   \n",
       "4963    Уразов Р.Н.  Огородова Л.М. (Министерство образования и нау...   \n",
       "4964    Уразов Р.Н.  Огородова Л.М. (Министерство образования и нау...   \n",
       "4965    Уразов Р.Н.  Асаул Н.А. (Министерство транспорта Российской...   \n",
       "\n",
       "                                     Краткое содержание  \n",
       "0     Вх - Об участии в совещании по вопросу доработ...  \n",
       "1     Вх - О командировании Саликовой К. и Глушко Д....  \n",
       "2     Вх - Об участии в Чемпионате мира по профессио...  \n",
       "3     Вх - Об участии в церемонии открытия Вузовског...  \n",
       "4     Вх - Об участии в Чемпионате мира по профессио...  \n",
       "...                                                 ...  \n",
       "4961  Протокол заседания Президиума Совета при Прези...  \n",
       "4962  О проведении 21.11.2017 заседания организацион...  \n",
       "4963  Протокол заседания рабочей группы приоритетног...  \n",
       "4964  Протокол заседания рабочей группы приоритетног...  \n",
       "4965  Участие в Чемпионате WorldSkills Hi-Tech Екате...  \n",
       "\n",
       "[4966 rows x 7 columns]"
      ]
     },
     "execution_count": 6,
     "metadata": {},
     "output_type": "execute_result"
    }
   ],
   "source": [
    "data"
   ]
  },
  {
   "cell_type": "markdown",
   "metadata": {},
   "source": [
    "# Обучение "
   ]
  },
  {
   "cell_type": "code",
   "execution_count": 7,
   "metadata": {},
   "outputs": [
    {
     "data": {
      "text/html": [
       "<div>\n",
       "<style scoped>\n",
       "    .dataframe tbody tr th:only-of-type {\n",
       "        vertical-align: middle;\n",
       "    }\n",
       "\n",
       "    .dataframe tbody tr th {\n",
       "        vertical-align: top;\n",
       "    }\n",
       "\n",
       "    .dataframe thead th {\n",
       "        text-align: right;\n",
       "    }\n",
       "</style>\n",
       "<table border=\"1\" class=\"dataframe\">\n",
       "  <thead>\n",
       "    <tr style=\"text-align: right;\">\n",
       "      <th></th>\n",
       "      <th>п/п</th>\n",
       "      <th>n документа</th>\n",
       "      <th>регистрации</th>\n",
       "      <th>Исх. Дата</th>\n",
       "      <th>Адресат</th>\n",
       "      <th>Автор</th>\n",
       "      <th>Краткое содержание</th>\n",
       "    </tr>\n",
       "  </thead>\n",
       "  <tbody>\n",
       "    <tr>\n",
       "      <th>0</th>\n",
       "      <td>2</td>\n",
       "      <td>3434</td>\n",
       "      <td>96</td>\n",
       "      <td>850</td>\n",
       "      <td>143</td>\n",
       "      <td>723</td>\n",
       "      <td>2868</td>\n",
       "    </tr>\n",
       "    <tr>\n",
       "      <th>1</th>\n",
       "      <td>3</td>\n",
       "      <td>3430</td>\n",
       "      <td>96</td>\n",
       "      <td>4056</td>\n",
       "      <td>143</td>\n",
       "      <td>1826</td>\n",
       "      <td>544</td>\n",
       "    </tr>\n",
       "    <tr>\n",
       "      <th>2</th>\n",
       "      <td>4</td>\n",
       "      <td>3428</td>\n",
       "      <td>96</td>\n",
       "      <td>3980</td>\n",
       "      <td>48</td>\n",
       "      <td>312</td>\n",
       "      <td>2612</td>\n",
       "    </tr>\n",
       "    <tr>\n",
       "      <th>3</th>\n",
       "      <td>5</td>\n",
       "      <td>3426</td>\n",
       "      <td>96</td>\n",
       "      <td>1727</td>\n",
       "      <td>143</td>\n",
       "      <td>112</td>\n",
       "      <td>2976</td>\n",
       "    </tr>\n",
       "    <tr>\n",
       "      <th>4</th>\n",
       "      <td>6</td>\n",
       "      <td>3425</td>\n",
       "      <td>96</td>\n",
       "      <td>4194</td>\n",
       "      <td>71</td>\n",
       "      <td>1255</td>\n",
       "      <td>2612</td>\n",
       "    </tr>\n",
       "  </tbody>\n",
       "</table>\n",
       "</div>"
      ],
      "text/plain": [
       "   п/п  n документа   регистрации  Исх. Дата  Адресат  Автор  \\\n",
       "0    2         3434            96        850      143    723   \n",
       "1    3         3430            96       4056      143   1826   \n",
       "2    4         3428            96       3980       48    312   \n",
       "3    5         3426            96       1727      143    112   \n",
       "4    6         3425            96       4194       71   1255   \n",
       "\n",
       "   Краткое содержание  \n",
       "0                2868  \n",
       "1                 544  \n",
       "2                2612  \n",
       "3                2976  \n",
       "4                2612  "
      ]
     },
     "execution_count": 7,
     "metadata": {},
     "output_type": "execute_result"
    }
   ],
   "source": [
    "# Подключаем класс для предобработки данных\n",
    "from sklearn import preprocessing\n",
    "\n",
    "# Напишем функцию, которая принимает на вход DataFrame, кодирует числовыми значениями категориальные признаки\n",
    "# и возвращает обновленный DataFrame и сами кодировщики.\n",
    "def number_encode_features(init_df):\n",
    "    result = init_df.copy() # копируем нашу исходную таблицу\n",
    "    encoders = {}\n",
    "    for column in result.columns:\n",
    "        if result.dtypes[column] == object: # np.object -- строковый тип / если тип столбца - строка, то нужно его закодировать\n",
    "            encoders[column] = preprocessing.LabelEncoder() # для колонки column создаем кодировщик\n",
    "            result[column] = encoders[column].fit_transform(result[column]) # применяем кодировщик к столбцу и перезаписываем столбец\n",
    "    return result, encoders\n",
    "\n",
    "data, encoders = number_encode_features(data) # Теперь encoded data содержит закодированные кат. признаки\n",
    "data.head()"
   ]
  },
  {
   "cell_type": "code",
   "execution_count": 8,
   "metadata": {},
   "outputs": [],
   "source": [
    "X = data"
   ]
  },
  {
   "cell_type": "code",
   "execution_count": 9,
   "metadata": {},
   "outputs": [
    {
     "data": {
      "text/html": [
       "<div>\n",
       "<style scoped>\n",
       "    .dataframe tbody tr th:only-of-type {\n",
       "        vertical-align: middle;\n",
       "    }\n",
       "\n",
       "    .dataframe tbody tr th {\n",
       "        vertical-align: top;\n",
       "    }\n",
       "\n",
       "    .dataframe thead th {\n",
       "        text-align: right;\n",
       "    }\n",
       "</style>\n",
       "<table border=\"1\" class=\"dataframe\">\n",
       "  <thead>\n",
       "    <tr style=\"text-align: right;\">\n",
       "      <th></th>\n",
       "      <th>п/п</th>\n",
       "      <th>n документа</th>\n",
       "      <th>регистрации</th>\n",
       "      <th>Исх. Дата</th>\n",
       "      <th>Адресат</th>\n",
       "      <th>Автор</th>\n",
       "      <th>Краткое содержание</th>\n",
       "    </tr>\n",
       "  </thead>\n",
       "  <tbody>\n",
       "    <tr>\n",
       "      <th>0</th>\n",
       "      <td>2</td>\n",
       "      <td>3434</td>\n",
       "      <td>96</td>\n",
       "      <td>850</td>\n",
       "      <td>143</td>\n",
       "      <td>723</td>\n",
       "      <td>2868</td>\n",
       "    </tr>\n",
       "    <tr>\n",
       "      <th>1</th>\n",
       "      <td>3</td>\n",
       "      <td>3430</td>\n",
       "      <td>96</td>\n",
       "      <td>4056</td>\n",
       "      <td>143</td>\n",
       "      <td>1826</td>\n",
       "      <td>544</td>\n",
       "    </tr>\n",
       "    <tr>\n",
       "      <th>2</th>\n",
       "      <td>4</td>\n",
       "      <td>3428</td>\n",
       "      <td>96</td>\n",
       "      <td>3980</td>\n",
       "      <td>48</td>\n",
       "      <td>312</td>\n",
       "      <td>2612</td>\n",
       "    </tr>\n",
       "    <tr>\n",
       "      <th>3</th>\n",
       "      <td>5</td>\n",
       "      <td>3426</td>\n",
       "      <td>96</td>\n",
       "      <td>1727</td>\n",
       "      <td>143</td>\n",
       "      <td>112</td>\n",
       "      <td>2976</td>\n",
       "    </tr>\n",
       "    <tr>\n",
       "      <th>4</th>\n",
       "      <td>6</td>\n",
       "      <td>3425</td>\n",
       "      <td>96</td>\n",
       "      <td>4194</td>\n",
       "      <td>71</td>\n",
       "      <td>1255</td>\n",
       "      <td>2612</td>\n",
       "    </tr>\n",
       "    <tr>\n",
       "      <th>...</th>\n",
       "      <td>...</td>\n",
       "      <td>...</td>\n",
       "      <td>...</td>\n",
       "      <td>...</td>\n",
       "      <td>...</td>\n",
       "      <td>...</td>\n",
       "      <td>...</td>\n",
       "    </tr>\n",
       "    <tr>\n",
       "      <th>4961</th>\n",
       "      <td>4963</td>\n",
       "      <td>3562</td>\n",
       "      <td>8</td>\n",
       "      <td>1393</td>\n",
       "      <td>143</td>\n",
       "      <td>1068</td>\n",
       "      <td>3847</td>\n",
       "    </tr>\n",
       "    <tr>\n",
       "      <th>4962</th>\n",
       "      <td>4964</td>\n",
       "      <td>3564</td>\n",
       "      <td>8</td>\n",
       "      <td>4521</td>\n",
       "      <td>143</td>\n",
       "      <td>1540</td>\n",
       "      <td>3557</td>\n",
       "    </tr>\n",
       "    <tr>\n",
       "      <th>4963</th>\n",
       "      <td>4965</td>\n",
       "      <td>3561</td>\n",
       "      <td>8</td>\n",
       "      <td>4236</td>\n",
       "      <td>143</td>\n",
       "      <td>1231</td>\n",
       "      <td>3852</td>\n",
       "    </tr>\n",
       "    <tr>\n",
       "      <th>4964</th>\n",
       "      <td>4966</td>\n",
       "      <td>3560</td>\n",
       "      <td>8</td>\n",
       "      <td>4235</td>\n",
       "      <td>143</td>\n",
       "      <td>1231</td>\n",
       "      <td>3852</td>\n",
       "    </tr>\n",
       "    <tr>\n",
       "      <th>4965</th>\n",
       "      <td>4967</td>\n",
       "      <td>4952</td>\n",
       "      <td>372</td>\n",
       "      <td>4271</td>\n",
       "      <td>143</td>\n",
       "      <td>109</td>\n",
       "      <td>3864</td>\n",
       "    </tr>\n",
       "  </tbody>\n",
       "</table>\n",
       "<p>4966 rows × 7 columns</p>\n",
       "</div>"
      ],
      "text/plain": [
       "       п/п  n документа   регистрации  Исх. Дата  Адресат  Автор  \\\n",
       "0        2         3434            96        850      143    723   \n",
       "1        3         3430            96       4056      143   1826   \n",
       "2        4         3428            96       3980       48    312   \n",
       "3        5         3426            96       1727      143    112   \n",
       "4        6         3425            96       4194       71   1255   \n",
       "...    ...          ...           ...        ...      ...    ...   \n",
       "4961  4963         3562             8       1393      143   1068   \n",
       "4962  4964         3564             8       4521      143   1540   \n",
       "4963  4965         3561             8       4236      143   1231   \n",
       "4964  4966         3560             8       4235      143   1231   \n",
       "4965  4967         4952           372       4271      143    109   \n",
       "\n",
       "      Краткое содержание  \n",
       "0                   2868  \n",
       "1                    544  \n",
       "2                   2612  \n",
       "3                   2976  \n",
       "4                   2612  \n",
       "...                  ...  \n",
       "4961                3847  \n",
       "4962                3557  \n",
       "4963                3852  \n",
       "4964                3852  \n",
       "4965                3864  \n",
       "\n",
       "[4966 rows x 7 columns]"
      ]
     },
     "execution_count": 9,
     "metadata": {},
     "output_type": "execute_result"
    }
   ],
   "source": [
    "X"
   ]
  },
  {
   "cell_type": "code",
   "execution_count": 10,
   "metadata": {},
   "outputs": [],
   "source": [
    "y=data['Адресат']"
   ]
  },
  {
   "cell_type": "code",
   "execution_count": 11,
   "metadata": {},
   "outputs": [],
   "source": [
    "X_train, X_test, y_train, y_test = train_test_split(X, y, test_size=0.2, random_state=42)"
   ]
  },
  {
   "cell_type": "code",
   "execution_count": 12,
   "metadata": {},
   "outputs": [
    {
     "data": {
      "text/html": [
       "<style>#sk-container-id-1 {color: black;}#sk-container-id-1 pre{padding: 0;}#sk-container-id-1 div.sk-toggleable {background-color: white;}#sk-container-id-1 label.sk-toggleable__label {cursor: pointer;display: block;width: 100%;margin-bottom: 0;padding: 0.3em;box-sizing: border-box;text-align: center;}#sk-container-id-1 label.sk-toggleable__label-arrow:before {content: \"▸\";float: left;margin-right: 0.25em;color: #696969;}#sk-container-id-1 label.sk-toggleable__label-arrow:hover:before {color: black;}#sk-container-id-1 div.sk-estimator:hover label.sk-toggleable__label-arrow:before {color: black;}#sk-container-id-1 div.sk-toggleable__content {max-height: 0;max-width: 0;overflow: hidden;text-align: left;background-color: #f0f8ff;}#sk-container-id-1 div.sk-toggleable__content pre {margin: 0.2em;color: black;border-radius: 0.25em;background-color: #f0f8ff;}#sk-container-id-1 input.sk-toggleable__control:checked~div.sk-toggleable__content {max-height: 200px;max-width: 100%;overflow: auto;}#sk-container-id-1 input.sk-toggleable__control:checked~label.sk-toggleable__label-arrow:before {content: \"▾\";}#sk-container-id-1 div.sk-estimator input.sk-toggleable__control:checked~label.sk-toggleable__label {background-color: #d4ebff;}#sk-container-id-1 div.sk-label input.sk-toggleable__control:checked~label.sk-toggleable__label {background-color: #d4ebff;}#sk-container-id-1 input.sk-hidden--visually {border: 0;clip: rect(1px 1px 1px 1px);clip: rect(1px, 1px, 1px, 1px);height: 1px;margin: -1px;overflow: hidden;padding: 0;position: absolute;width: 1px;}#sk-container-id-1 div.sk-estimator {font-family: monospace;background-color: #f0f8ff;border: 1px dotted black;border-radius: 0.25em;box-sizing: border-box;margin-bottom: 0.5em;}#sk-container-id-1 div.sk-estimator:hover {background-color: #d4ebff;}#sk-container-id-1 div.sk-parallel-item::after {content: \"\";width: 100%;border-bottom: 1px solid gray;flex-grow: 1;}#sk-container-id-1 div.sk-label:hover label.sk-toggleable__label {background-color: #d4ebff;}#sk-container-id-1 div.sk-serial::before {content: \"\";position: absolute;border-left: 1px solid gray;box-sizing: border-box;top: 0;bottom: 0;left: 50%;z-index: 0;}#sk-container-id-1 div.sk-serial {display: flex;flex-direction: column;align-items: center;background-color: white;padding-right: 0.2em;padding-left: 0.2em;position: relative;}#sk-container-id-1 div.sk-item {position: relative;z-index: 1;}#sk-container-id-1 div.sk-parallel {display: flex;align-items: stretch;justify-content: center;background-color: white;position: relative;}#sk-container-id-1 div.sk-item::before, #sk-container-id-1 div.sk-parallel-item::before {content: \"\";position: absolute;border-left: 1px solid gray;box-sizing: border-box;top: 0;bottom: 0;left: 50%;z-index: -1;}#sk-container-id-1 div.sk-parallel-item {display: flex;flex-direction: column;z-index: 1;position: relative;background-color: white;}#sk-container-id-1 div.sk-parallel-item:first-child::after {align-self: flex-end;width: 50%;}#sk-container-id-1 div.sk-parallel-item:last-child::after {align-self: flex-start;width: 50%;}#sk-container-id-1 div.sk-parallel-item:only-child::after {width: 0;}#sk-container-id-1 div.sk-dashed-wrapped {border: 1px dashed gray;margin: 0 0.4em 0.5em 0.4em;box-sizing: border-box;padding-bottom: 0.4em;background-color: white;}#sk-container-id-1 div.sk-label label {font-family: monospace;font-weight: bold;display: inline-block;line-height: 1.2em;}#sk-container-id-1 div.sk-label-container {text-align: center;}#sk-container-id-1 div.sk-container {/* jupyter's `normalize.less` sets `[hidden] { display: none; }` but bootstrap.min.css set `[hidden] { display: none !important; }` so we also need the `!important` here to be able to override the default hidden behavior on the sphinx rendered scikit-learn.org. See: https://github.com/scikit-learn/scikit-learn/issues/21755 */display: inline-block !important;position: relative;}#sk-container-id-1 div.sk-text-repr-fallback {display: none;}</style><div id=\"sk-container-id-1\" class=\"sk-top-container\"><div class=\"sk-text-repr-fallback\"><pre>RandomForestClassifier()</pre><b>In a Jupyter environment, please rerun this cell to show the HTML representation or trust the notebook. <br />On GitHub, the HTML representation is unable to render, please try loading this page with nbviewer.org.</b></div><div class=\"sk-container\" hidden><div class=\"sk-item\"><div class=\"sk-estimator sk-toggleable\"><input class=\"sk-toggleable__control sk-hidden--visually\" id=\"sk-estimator-id-1\" type=\"checkbox\" checked><label for=\"sk-estimator-id-1\" class=\"sk-toggleable__label sk-toggleable__label-arrow\">RandomForestClassifier</label><div class=\"sk-toggleable__content\"><pre>RandomForestClassifier()</pre></div></div></div></div></div>"
      ],
      "text/plain": [
       "RandomForestClassifier()"
      ]
     },
     "execution_count": 12,
     "metadata": {},
     "output_type": "execute_result"
    }
   ],
   "source": [
    "model = RandomForestClassifier(n_estimators=100)\n",
    "model.fit(X_train, y_train)"
   ]
  },
  {
   "cell_type": "code",
   "execution_count": 13,
   "metadata": {},
   "outputs": [
    {
     "data": {
      "text/html": [
       "<style>#sk-container-id-2 {color: black;}#sk-container-id-2 pre{padding: 0;}#sk-container-id-2 div.sk-toggleable {background-color: white;}#sk-container-id-2 label.sk-toggleable__label {cursor: pointer;display: block;width: 100%;margin-bottom: 0;padding: 0.3em;box-sizing: border-box;text-align: center;}#sk-container-id-2 label.sk-toggleable__label-arrow:before {content: \"▸\";float: left;margin-right: 0.25em;color: #696969;}#sk-container-id-2 label.sk-toggleable__label-arrow:hover:before {color: black;}#sk-container-id-2 div.sk-estimator:hover label.sk-toggleable__label-arrow:before {color: black;}#sk-container-id-2 div.sk-toggleable__content {max-height: 0;max-width: 0;overflow: hidden;text-align: left;background-color: #f0f8ff;}#sk-container-id-2 div.sk-toggleable__content pre {margin: 0.2em;color: black;border-radius: 0.25em;background-color: #f0f8ff;}#sk-container-id-2 input.sk-toggleable__control:checked~div.sk-toggleable__content {max-height: 200px;max-width: 100%;overflow: auto;}#sk-container-id-2 input.sk-toggleable__control:checked~label.sk-toggleable__label-arrow:before {content: \"▾\";}#sk-container-id-2 div.sk-estimator input.sk-toggleable__control:checked~label.sk-toggleable__label {background-color: #d4ebff;}#sk-container-id-2 div.sk-label input.sk-toggleable__control:checked~label.sk-toggleable__label {background-color: #d4ebff;}#sk-container-id-2 input.sk-hidden--visually {border: 0;clip: rect(1px 1px 1px 1px);clip: rect(1px, 1px, 1px, 1px);height: 1px;margin: -1px;overflow: hidden;padding: 0;position: absolute;width: 1px;}#sk-container-id-2 div.sk-estimator {font-family: monospace;background-color: #f0f8ff;border: 1px dotted black;border-radius: 0.25em;box-sizing: border-box;margin-bottom: 0.5em;}#sk-container-id-2 div.sk-estimator:hover {background-color: #d4ebff;}#sk-container-id-2 div.sk-parallel-item::after {content: \"\";width: 100%;border-bottom: 1px solid gray;flex-grow: 1;}#sk-container-id-2 div.sk-label:hover label.sk-toggleable__label {background-color: #d4ebff;}#sk-container-id-2 div.sk-serial::before {content: \"\";position: absolute;border-left: 1px solid gray;box-sizing: border-box;top: 0;bottom: 0;left: 50%;z-index: 0;}#sk-container-id-2 div.sk-serial {display: flex;flex-direction: column;align-items: center;background-color: white;padding-right: 0.2em;padding-left: 0.2em;position: relative;}#sk-container-id-2 div.sk-item {position: relative;z-index: 1;}#sk-container-id-2 div.sk-parallel {display: flex;align-items: stretch;justify-content: center;background-color: white;position: relative;}#sk-container-id-2 div.sk-item::before, #sk-container-id-2 div.sk-parallel-item::before {content: \"\";position: absolute;border-left: 1px solid gray;box-sizing: border-box;top: 0;bottom: 0;left: 50%;z-index: -1;}#sk-container-id-2 div.sk-parallel-item {display: flex;flex-direction: column;z-index: 1;position: relative;background-color: white;}#sk-container-id-2 div.sk-parallel-item:first-child::after {align-self: flex-end;width: 50%;}#sk-container-id-2 div.sk-parallel-item:last-child::after {align-self: flex-start;width: 50%;}#sk-container-id-2 div.sk-parallel-item:only-child::after {width: 0;}#sk-container-id-2 div.sk-dashed-wrapped {border: 1px dashed gray;margin: 0 0.4em 0.5em 0.4em;box-sizing: border-box;padding-bottom: 0.4em;background-color: white;}#sk-container-id-2 div.sk-label label {font-family: monospace;font-weight: bold;display: inline-block;line-height: 1.2em;}#sk-container-id-2 div.sk-label-container {text-align: center;}#sk-container-id-2 div.sk-container {/* jupyter's `normalize.less` sets `[hidden] { display: none; }` but bootstrap.min.css set `[hidden] { display: none !important; }` so we also need the `!important` here to be able to override the default hidden behavior on the sphinx rendered scikit-learn.org. See: https://github.com/scikit-learn/scikit-learn/issues/21755 */display: inline-block !important;position: relative;}#sk-container-id-2 div.sk-text-repr-fallback {display: none;}</style><div id=\"sk-container-id-2\" class=\"sk-top-container\"><div class=\"sk-text-repr-fallback\"><pre>RandomForestClassifier(random_state=42)</pre><b>In a Jupyter environment, please rerun this cell to show the HTML representation or trust the notebook. <br />On GitHub, the HTML representation is unable to render, please try loading this page with nbviewer.org.</b></div><div class=\"sk-container\" hidden><div class=\"sk-item\"><div class=\"sk-estimator sk-toggleable\"><input class=\"sk-toggleable__control sk-hidden--visually\" id=\"sk-estimator-id-2\" type=\"checkbox\" checked><label for=\"sk-estimator-id-2\" class=\"sk-toggleable__label sk-toggleable__label-arrow\">RandomForestClassifier</label><div class=\"sk-toggleable__content\"><pre>RandomForestClassifier(random_state=42)</pre></div></div></div></div></div>"
      ],
      "text/plain": [
       "RandomForestClassifier(random_state=42)"
      ]
     },
     "execution_count": 13,
     "metadata": {},
     "output_type": "execute_result"
    }
   ],
   "source": [
    "model = RandomForestClassifier(n_estimators=100, random_state=42)\n",
    "model.fit(X_train, y_train)"
   ]
  },
  {
   "cell_type": "code",
   "execution_count": 14,
   "metadata": {},
   "outputs": [],
   "source": [
    "X = data.drop('Адресат', axis=1)\n",
    "y = data['Адресат']"
   ]
  },
  {
   "cell_type": "code",
   "execution_count": 15,
   "metadata": {},
   "outputs": [],
   "source": [
    "from sklearn.pipeline import make_pipeline\n",
    "\n",
    "from sklearn.preprocessing import StandardScaler\n",
    "from sklearn.svm import SVC"
   ]
  },
  {
   "cell_type": "code",
   "execution_count": 16,
   "metadata": {},
   "outputs": [],
   "source": [
    "model = make_pipeline(StandardScaler(), SVC())"
   ]
  },
  {
   "cell_type": "code",
   "execution_count": 17,
   "metadata": {},
   "outputs": [
    {
     "data": {
      "text/html": [
       "<style>#sk-container-id-3 {color: black;}#sk-container-id-3 pre{padding: 0;}#sk-container-id-3 div.sk-toggleable {background-color: white;}#sk-container-id-3 label.sk-toggleable__label {cursor: pointer;display: block;width: 100%;margin-bottom: 0;padding: 0.3em;box-sizing: border-box;text-align: center;}#sk-container-id-3 label.sk-toggleable__label-arrow:before {content: \"▸\";float: left;margin-right: 0.25em;color: #696969;}#sk-container-id-3 label.sk-toggleable__label-arrow:hover:before {color: black;}#sk-container-id-3 div.sk-estimator:hover label.sk-toggleable__label-arrow:before {color: black;}#sk-container-id-3 div.sk-toggleable__content {max-height: 0;max-width: 0;overflow: hidden;text-align: left;background-color: #f0f8ff;}#sk-container-id-3 div.sk-toggleable__content pre {margin: 0.2em;color: black;border-radius: 0.25em;background-color: #f0f8ff;}#sk-container-id-3 input.sk-toggleable__control:checked~div.sk-toggleable__content {max-height: 200px;max-width: 100%;overflow: auto;}#sk-container-id-3 input.sk-toggleable__control:checked~label.sk-toggleable__label-arrow:before {content: \"▾\";}#sk-container-id-3 div.sk-estimator input.sk-toggleable__control:checked~label.sk-toggleable__label {background-color: #d4ebff;}#sk-container-id-3 div.sk-label input.sk-toggleable__control:checked~label.sk-toggleable__label {background-color: #d4ebff;}#sk-container-id-3 input.sk-hidden--visually {border: 0;clip: rect(1px 1px 1px 1px);clip: rect(1px, 1px, 1px, 1px);height: 1px;margin: -1px;overflow: hidden;padding: 0;position: absolute;width: 1px;}#sk-container-id-3 div.sk-estimator {font-family: monospace;background-color: #f0f8ff;border: 1px dotted black;border-radius: 0.25em;box-sizing: border-box;margin-bottom: 0.5em;}#sk-container-id-3 div.sk-estimator:hover {background-color: #d4ebff;}#sk-container-id-3 div.sk-parallel-item::after {content: \"\";width: 100%;border-bottom: 1px solid gray;flex-grow: 1;}#sk-container-id-3 div.sk-label:hover label.sk-toggleable__label {background-color: #d4ebff;}#sk-container-id-3 div.sk-serial::before {content: \"\";position: absolute;border-left: 1px solid gray;box-sizing: border-box;top: 0;bottom: 0;left: 50%;z-index: 0;}#sk-container-id-3 div.sk-serial {display: flex;flex-direction: column;align-items: center;background-color: white;padding-right: 0.2em;padding-left: 0.2em;position: relative;}#sk-container-id-3 div.sk-item {position: relative;z-index: 1;}#sk-container-id-3 div.sk-parallel {display: flex;align-items: stretch;justify-content: center;background-color: white;position: relative;}#sk-container-id-3 div.sk-item::before, #sk-container-id-3 div.sk-parallel-item::before {content: \"\";position: absolute;border-left: 1px solid gray;box-sizing: border-box;top: 0;bottom: 0;left: 50%;z-index: -1;}#sk-container-id-3 div.sk-parallel-item {display: flex;flex-direction: column;z-index: 1;position: relative;background-color: white;}#sk-container-id-3 div.sk-parallel-item:first-child::after {align-self: flex-end;width: 50%;}#sk-container-id-3 div.sk-parallel-item:last-child::after {align-self: flex-start;width: 50%;}#sk-container-id-3 div.sk-parallel-item:only-child::after {width: 0;}#sk-container-id-3 div.sk-dashed-wrapped {border: 1px dashed gray;margin: 0 0.4em 0.5em 0.4em;box-sizing: border-box;padding-bottom: 0.4em;background-color: white;}#sk-container-id-3 div.sk-label label {font-family: monospace;font-weight: bold;display: inline-block;line-height: 1.2em;}#sk-container-id-3 div.sk-label-container {text-align: center;}#sk-container-id-3 div.sk-container {/* jupyter's `normalize.less` sets `[hidden] { display: none; }` but bootstrap.min.css set `[hidden] { display: none !important; }` so we also need the `!important` here to be able to override the default hidden behavior on the sphinx rendered scikit-learn.org. See: https://github.com/scikit-learn/scikit-learn/issues/21755 */display: inline-block !important;position: relative;}#sk-container-id-3 div.sk-text-repr-fallback {display: none;}</style><div id=\"sk-container-id-3\" class=\"sk-top-container\"><div class=\"sk-text-repr-fallback\"><pre>Pipeline(steps=[(&#x27;standardscaler&#x27;, StandardScaler()), (&#x27;svc&#x27;, SVC())])</pre><b>In a Jupyter environment, please rerun this cell to show the HTML representation or trust the notebook. <br />On GitHub, the HTML representation is unable to render, please try loading this page with nbviewer.org.</b></div><div class=\"sk-container\" hidden><div class=\"sk-item sk-dashed-wrapped\"><div class=\"sk-label-container\"><div class=\"sk-label sk-toggleable\"><input class=\"sk-toggleable__control sk-hidden--visually\" id=\"sk-estimator-id-3\" type=\"checkbox\" ><label for=\"sk-estimator-id-3\" class=\"sk-toggleable__label sk-toggleable__label-arrow\">Pipeline</label><div class=\"sk-toggleable__content\"><pre>Pipeline(steps=[(&#x27;standardscaler&#x27;, StandardScaler()), (&#x27;svc&#x27;, SVC())])</pre></div></div></div><div class=\"sk-serial\"><div class=\"sk-item\"><div class=\"sk-estimator sk-toggleable\"><input class=\"sk-toggleable__control sk-hidden--visually\" id=\"sk-estimator-id-4\" type=\"checkbox\" ><label for=\"sk-estimator-id-4\" class=\"sk-toggleable__label sk-toggleable__label-arrow\">StandardScaler</label><div class=\"sk-toggleable__content\"><pre>StandardScaler()</pre></div></div></div><div class=\"sk-item\"><div class=\"sk-estimator sk-toggleable\"><input class=\"sk-toggleable__control sk-hidden--visually\" id=\"sk-estimator-id-5\" type=\"checkbox\" ><label for=\"sk-estimator-id-5\" class=\"sk-toggleable__label sk-toggleable__label-arrow\">SVC</label><div class=\"sk-toggleable__content\"><pre>SVC()</pre></div></div></div></div></div></div></div>"
      ],
      "text/plain": [
       "Pipeline(steps=[('standardscaler', StandardScaler()), ('svc', SVC())])"
      ]
     },
     "execution_count": 17,
     "metadata": {},
     "output_type": "execute_result"
    }
   ],
   "source": [
    "model.fit(X_train, y_train)"
   ]
  },
  {
   "cell_type": "code",
   "execution_count": 18,
   "metadata": {},
   "outputs": [],
   "source": [
    "y_pred = model.predict(X_test)"
   ]
  },
  {
   "cell_type": "code",
   "execution_count": 19,
   "metadata": {},
   "outputs": [
    {
     "name": "stdout",
     "output_type": "stream",
     "text": [
      "Точность модели: 0.7645875251509054\n"
     ]
    }
   ],
   "source": [
    "accuracy = accuracy_score(y_test, y_pred)\n",
    "print(f'Точность модели: {accuracy}')"
   ]
  },
  {
   "cell_type": "markdown",
   "metadata": {},
   "source": [
    "# Feature Engineering"
   ]
  },
  {
   "cell_type": "markdown",
   "metadata": {},
   "source": [
    "Задаем сетку параметров для поиска наилучших значений.\n",
    "\n",
    "Обучаем на тренировочных данных X_train, y_train"
   ]
  },
  {
   "cell_type": "code",
   "execution_count": 20,
   "metadata": {},
   "outputs": [
    {
     "data": {
      "text/html": [
       "<style>#sk-container-id-4 {color: black;}#sk-container-id-4 pre{padding: 0;}#sk-container-id-4 div.sk-toggleable {background-color: white;}#sk-container-id-4 label.sk-toggleable__label {cursor: pointer;display: block;width: 100%;margin-bottom: 0;padding: 0.3em;box-sizing: border-box;text-align: center;}#sk-container-id-4 label.sk-toggleable__label-arrow:before {content: \"▸\";float: left;margin-right: 0.25em;color: #696969;}#sk-container-id-4 label.sk-toggleable__label-arrow:hover:before {color: black;}#sk-container-id-4 div.sk-estimator:hover label.sk-toggleable__label-arrow:before {color: black;}#sk-container-id-4 div.sk-toggleable__content {max-height: 0;max-width: 0;overflow: hidden;text-align: left;background-color: #f0f8ff;}#sk-container-id-4 div.sk-toggleable__content pre {margin: 0.2em;color: black;border-radius: 0.25em;background-color: #f0f8ff;}#sk-container-id-4 input.sk-toggleable__control:checked~div.sk-toggleable__content {max-height: 200px;max-width: 100%;overflow: auto;}#sk-container-id-4 input.sk-toggleable__control:checked~label.sk-toggleable__label-arrow:before {content: \"▾\";}#sk-container-id-4 div.sk-estimator input.sk-toggleable__control:checked~label.sk-toggleable__label {background-color: #d4ebff;}#sk-container-id-4 div.sk-label input.sk-toggleable__control:checked~label.sk-toggleable__label {background-color: #d4ebff;}#sk-container-id-4 input.sk-hidden--visually {border: 0;clip: rect(1px 1px 1px 1px);clip: rect(1px, 1px, 1px, 1px);height: 1px;margin: -1px;overflow: hidden;padding: 0;position: absolute;width: 1px;}#sk-container-id-4 div.sk-estimator {font-family: monospace;background-color: #f0f8ff;border: 1px dotted black;border-radius: 0.25em;box-sizing: border-box;margin-bottom: 0.5em;}#sk-container-id-4 div.sk-estimator:hover {background-color: #d4ebff;}#sk-container-id-4 div.sk-parallel-item::after {content: \"\";width: 100%;border-bottom: 1px solid gray;flex-grow: 1;}#sk-container-id-4 div.sk-label:hover label.sk-toggleable__label {background-color: #d4ebff;}#sk-container-id-4 div.sk-serial::before {content: \"\";position: absolute;border-left: 1px solid gray;box-sizing: border-box;top: 0;bottom: 0;left: 50%;z-index: 0;}#sk-container-id-4 div.sk-serial {display: flex;flex-direction: column;align-items: center;background-color: white;padding-right: 0.2em;padding-left: 0.2em;position: relative;}#sk-container-id-4 div.sk-item {position: relative;z-index: 1;}#sk-container-id-4 div.sk-parallel {display: flex;align-items: stretch;justify-content: center;background-color: white;position: relative;}#sk-container-id-4 div.sk-item::before, #sk-container-id-4 div.sk-parallel-item::before {content: \"\";position: absolute;border-left: 1px solid gray;box-sizing: border-box;top: 0;bottom: 0;left: 50%;z-index: -1;}#sk-container-id-4 div.sk-parallel-item {display: flex;flex-direction: column;z-index: 1;position: relative;background-color: white;}#sk-container-id-4 div.sk-parallel-item:first-child::after {align-self: flex-end;width: 50%;}#sk-container-id-4 div.sk-parallel-item:last-child::after {align-self: flex-start;width: 50%;}#sk-container-id-4 div.sk-parallel-item:only-child::after {width: 0;}#sk-container-id-4 div.sk-dashed-wrapped {border: 1px dashed gray;margin: 0 0.4em 0.5em 0.4em;box-sizing: border-box;padding-bottom: 0.4em;background-color: white;}#sk-container-id-4 div.sk-label label {font-family: monospace;font-weight: bold;display: inline-block;line-height: 1.2em;}#sk-container-id-4 div.sk-label-container {text-align: center;}#sk-container-id-4 div.sk-container {/* jupyter's `normalize.less` sets `[hidden] { display: none; }` but bootstrap.min.css set `[hidden] { display: none !important; }` so we also need the `!important` here to be able to override the default hidden behavior on the sphinx rendered scikit-learn.org. See: https://github.com/scikit-learn/scikit-learn/issues/21755 */display: inline-block !important;position: relative;}#sk-container-id-4 div.sk-text-repr-fallback {display: none;}</style><div id=\"sk-container-id-4\" class=\"sk-top-container\"><div class=\"sk-text-repr-fallback\"><pre>GridSearchCV(cv=5, estimator=LogisticRegression(),\n",
       "             param_grid={&#x27;C&#x27;: [1, 2, 3, 4, 5, 6, 7, 8, 9],\n",
       "                         &#x27;penalty&#x27;: [&#x27;l1&#x27;, &#x27;l2&#x27;]},\n",
       "             refit=False, scoring=[&#x27;r2&#x27;, &#x27;neg_mean_absolute_error&#x27;])</pre><b>In a Jupyter environment, please rerun this cell to show the HTML representation or trust the notebook. <br />On GitHub, the HTML representation is unable to render, please try loading this page with nbviewer.org.</b></div><div class=\"sk-container\" hidden><div class=\"sk-item sk-dashed-wrapped\"><div class=\"sk-label-container\"><div class=\"sk-label sk-toggleable\"><input class=\"sk-toggleable__control sk-hidden--visually\" id=\"sk-estimator-id-6\" type=\"checkbox\" ><label for=\"sk-estimator-id-6\" class=\"sk-toggleable__label sk-toggleable__label-arrow\">GridSearchCV</label><div class=\"sk-toggleable__content\"><pre>GridSearchCV(cv=5, estimator=LogisticRegression(),\n",
       "             param_grid={&#x27;C&#x27;: [1, 2, 3, 4, 5, 6, 7, 8, 9],\n",
       "                         &#x27;penalty&#x27;: [&#x27;l1&#x27;, &#x27;l2&#x27;]},\n",
       "             refit=False, scoring=[&#x27;r2&#x27;, &#x27;neg_mean_absolute_error&#x27;])</pre></div></div></div><div class=\"sk-parallel\"><div class=\"sk-parallel-item\"><div class=\"sk-item\"><div class=\"sk-label-container\"><div class=\"sk-label sk-toggleable\"><input class=\"sk-toggleable__control sk-hidden--visually\" id=\"sk-estimator-id-7\" type=\"checkbox\" ><label for=\"sk-estimator-id-7\" class=\"sk-toggleable__label sk-toggleable__label-arrow\">estimator: LogisticRegression</label><div class=\"sk-toggleable__content\"><pre>LogisticRegression()</pre></div></div></div><div class=\"sk-serial\"><div class=\"sk-item\"><div class=\"sk-estimator sk-toggleable\"><input class=\"sk-toggleable__control sk-hidden--visually\" id=\"sk-estimator-id-8\" type=\"checkbox\" ><label for=\"sk-estimator-id-8\" class=\"sk-toggleable__label sk-toggleable__label-arrow\">LogisticRegression</label><div class=\"sk-toggleable__content\"><pre>LogisticRegression()</pre></div></div></div></div></div></div></div></div></div></div>"
      ],
      "text/plain": [
       "GridSearchCV(cv=5, estimator=LogisticRegression(),\n",
       "             param_grid={'C': [1, 2, 3, 4, 5, 6, 7, 8, 9],\n",
       "                         'penalty': ['l1', 'l2']},\n",
       "             refit=False, scoring=['r2', 'neg_mean_absolute_error'])"
      ]
     },
     "execution_count": 20,
     "metadata": {},
     "output_type": "execute_result"
    }
   ],
   "source": [
    "import warnings\n",
    "warnings.filterwarnings(\"ignore\")\n",
    "\n",
    "# В sklearn есть специальный модуль для работы с кросс-валидацией\n",
    "from sklearn.model_selection import GridSearchCV\n",
    "from sklearn.linear_model import LogisticRegression\n",
    "# Зададим сетку - среди каких значений выбирать наилучший параметр.\n",
    "param_grid = {\"C\":list(range(1, 10)),\n",
    "              \"penalty\":[\"l1\",\"l2\"]}\n",
    "\n",
    "# Создаем объект кросс-валидации\n",
    "gs = GridSearchCV(LogisticRegression(),\n",
    "                  param_grid,\n",
    "                  cv=5,\n",
    "                  scoring=['r2', 'neg_mean_absolute_error'],\n",
    "                  refit=False)\n",
    "\n",
    "# Обучаем его\n",
    "gs.fit(X_train, y_train)"
   ]
  },
  {
   "cell_type": "markdown",
   "metadata": {},
   "source": [
    "Извлекаем значения среднего значения метрики r2 для каждого варианта модели"
   ]
  },
  {
   "cell_type": "code",
   "execution_count": 21,
   "metadata": {},
   "outputs": [
    {
     "data": {
      "text/plain": [
       "array([       nan, 0.83326186,        nan, 0.83376552,        nan,\n",
       "       0.83426395,        nan, 0.83702308,        nan, 0.83596464,\n",
       "              nan, 0.83352527,        nan, 0.83381304,        nan,\n",
       "       0.83295318,        nan, 0.83390774])"
      ]
     },
     "execution_count": 21,
     "metadata": {},
     "output_type": "execute_result"
    }
   ],
   "source": [
    "gs.cv_results_['mean_test_r2']"
   ]
  },
  {
   "cell_type": "code",
   "execution_count": 22,
   "metadata": {},
   "outputs": [
    {
     "data": {
      "text/plain": [
       "[{'C': 1, 'penalty': 'l1'},\n",
       " {'C': 1, 'penalty': 'l2'},\n",
       " {'C': 2, 'penalty': 'l1'},\n",
       " {'C': 2, 'penalty': 'l2'},\n",
       " {'C': 3, 'penalty': 'l1'},\n",
       " {'C': 3, 'penalty': 'l2'},\n",
       " {'C': 4, 'penalty': 'l1'},\n",
       " {'C': 4, 'penalty': 'l2'},\n",
       " {'C': 5, 'penalty': 'l1'},\n",
       " {'C': 5, 'penalty': 'l2'},\n",
       " {'C': 6, 'penalty': 'l1'},\n",
       " {'C': 6, 'penalty': 'l2'},\n",
       " {'C': 7, 'penalty': 'l1'},\n",
       " {'C': 7, 'penalty': 'l2'},\n",
       " {'C': 8, 'penalty': 'l1'},\n",
       " {'C': 8, 'penalty': 'l2'},\n",
       " {'C': 9, 'penalty': 'l1'},\n",
       " {'C': 9, 'penalty': 'l2'}]"
      ]
     },
     "execution_count": 22,
     "metadata": {},
     "output_type": "execute_result"
    }
   ],
   "source": [
    "gs.cv_results_['params']\n"
   ]
  },
  {
   "cell_type": "code",
   "execution_count": 23,
   "metadata": {},
   "outputs": [
    {
     "data": {
      "text/plain": [
       "[(nan, nan, {'C': 1, 'penalty': 'l1'}),\n",
       " (0.8332618555099641, -11.099203143069879, {'C': 1, 'penalty': 'l2'}),\n",
       " (nan, nan, {'C': 2, 'penalty': 'l1'}),\n",
       " (0.8337655206451059, -11.010820144796666, {'C': 2, 'penalty': 'l2'}),\n",
       " (nan, nan, {'C': 3, 'penalty': 'l1'}),\n",
       " (0.8342639544249939, -10.974372257338846, {'C': 3, 'penalty': 'l2'}),\n",
       " (nan, nan, {'C': 4, 'penalty': 'l1'}),\n",
       " (0.8370230752967437, -10.927819020008554, {'C': 4, 'penalty': 'l2'}),\n",
       " (nan, nan, {'C': 5, 'penalty': 'l1'}),\n",
       " (0.8359646352869149, -10.921405509877541, {'C': 5, 'penalty': 'l2'}),\n",
       " (nan, nan, {'C': 6, 'penalty': 'l1'}),\n",
       " (0.8335252717437804, -10.990454826291527, {'C': 6, 'penalty': 'l2'}),\n",
       " (nan, nan, {'C': 7, 'penalty': 'l1'}),\n",
       " (0.8338130370979808, -10.99679292809277, {'C': 7, 'penalty': 'l2'}),\n",
       " (nan, nan, {'C': 8, 'penalty': 'l1'}),\n",
       " (0.8329531811418167, -10.996277426611536, {'C': 8, 'penalty': 'l2'}),\n",
       " (nan, nan, {'C': 9, 'penalty': 'l1'}),\n",
       " (0.833907739028524, -11.027939736704528, {'C': 9, 'penalty': 'l2'})]"
      ]
     },
     "execution_count": 23,
     "metadata": {},
     "output_type": "execute_result"
    }
   ],
   "source": [
    "list(zip(gs.cv_results_['mean_test_r2'],\n",
    "         gs.cv_results_['mean_test_neg_mean_absolute_error'],\n",
    "         gs.cv_results_['params']))"
   ]
  },
  {
   "cell_type": "markdown",
   "metadata": {},
   "source": [
    "задаем параментр регуляризации и тип регуляризации \n",
    "\n",
    "обучаем модель "
   ]
  },
  {
   "cell_type": "code",
   "execution_count": 24,
   "metadata": {},
   "outputs": [
    {
     "data": {
      "text/html": [
       "<style>#sk-container-id-5 {color: black;}#sk-container-id-5 pre{padding: 0;}#sk-container-id-5 div.sk-toggleable {background-color: white;}#sk-container-id-5 label.sk-toggleable__label {cursor: pointer;display: block;width: 100%;margin-bottom: 0;padding: 0.3em;box-sizing: border-box;text-align: center;}#sk-container-id-5 label.sk-toggleable__label-arrow:before {content: \"▸\";float: left;margin-right: 0.25em;color: #696969;}#sk-container-id-5 label.sk-toggleable__label-arrow:hover:before {color: black;}#sk-container-id-5 div.sk-estimator:hover label.sk-toggleable__label-arrow:before {color: black;}#sk-container-id-5 div.sk-toggleable__content {max-height: 0;max-width: 0;overflow: hidden;text-align: left;background-color: #f0f8ff;}#sk-container-id-5 div.sk-toggleable__content pre {margin: 0.2em;color: black;border-radius: 0.25em;background-color: #f0f8ff;}#sk-container-id-5 input.sk-toggleable__control:checked~div.sk-toggleable__content {max-height: 200px;max-width: 100%;overflow: auto;}#sk-container-id-5 input.sk-toggleable__control:checked~label.sk-toggleable__label-arrow:before {content: \"▾\";}#sk-container-id-5 div.sk-estimator input.sk-toggleable__control:checked~label.sk-toggleable__label {background-color: #d4ebff;}#sk-container-id-5 div.sk-label input.sk-toggleable__control:checked~label.sk-toggleable__label {background-color: #d4ebff;}#sk-container-id-5 input.sk-hidden--visually {border: 0;clip: rect(1px 1px 1px 1px);clip: rect(1px, 1px, 1px, 1px);height: 1px;margin: -1px;overflow: hidden;padding: 0;position: absolute;width: 1px;}#sk-container-id-5 div.sk-estimator {font-family: monospace;background-color: #f0f8ff;border: 1px dotted black;border-radius: 0.25em;box-sizing: border-box;margin-bottom: 0.5em;}#sk-container-id-5 div.sk-estimator:hover {background-color: #d4ebff;}#sk-container-id-5 div.sk-parallel-item::after {content: \"\";width: 100%;border-bottom: 1px solid gray;flex-grow: 1;}#sk-container-id-5 div.sk-label:hover label.sk-toggleable__label {background-color: #d4ebff;}#sk-container-id-5 div.sk-serial::before {content: \"\";position: absolute;border-left: 1px solid gray;box-sizing: border-box;top: 0;bottom: 0;left: 50%;z-index: 0;}#sk-container-id-5 div.sk-serial {display: flex;flex-direction: column;align-items: center;background-color: white;padding-right: 0.2em;padding-left: 0.2em;position: relative;}#sk-container-id-5 div.sk-item {position: relative;z-index: 1;}#sk-container-id-5 div.sk-parallel {display: flex;align-items: stretch;justify-content: center;background-color: white;position: relative;}#sk-container-id-5 div.sk-item::before, #sk-container-id-5 div.sk-parallel-item::before {content: \"\";position: absolute;border-left: 1px solid gray;box-sizing: border-box;top: 0;bottom: 0;left: 50%;z-index: -1;}#sk-container-id-5 div.sk-parallel-item {display: flex;flex-direction: column;z-index: 1;position: relative;background-color: white;}#sk-container-id-5 div.sk-parallel-item:first-child::after {align-self: flex-end;width: 50%;}#sk-container-id-5 div.sk-parallel-item:last-child::after {align-self: flex-start;width: 50%;}#sk-container-id-5 div.sk-parallel-item:only-child::after {width: 0;}#sk-container-id-5 div.sk-dashed-wrapped {border: 1px dashed gray;margin: 0 0.4em 0.5em 0.4em;box-sizing: border-box;padding-bottom: 0.4em;background-color: white;}#sk-container-id-5 div.sk-label label {font-family: monospace;font-weight: bold;display: inline-block;line-height: 1.2em;}#sk-container-id-5 div.sk-label-container {text-align: center;}#sk-container-id-5 div.sk-container {/* jupyter's `normalize.less` sets `[hidden] { display: none; }` but bootstrap.min.css set `[hidden] { display: none !important; }` so we also need the `!important` here to be able to override the default hidden behavior on the sphinx rendered scikit-learn.org. See: https://github.com/scikit-learn/scikit-learn/issues/21755 */display: inline-block !important;position: relative;}#sk-container-id-5 div.sk-text-repr-fallback {display: none;}</style><div id=\"sk-container-id-5\" class=\"sk-top-container\"><div class=\"sk-text-repr-fallback\"><pre>LogisticRegression(C=1)</pre><b>In a Jupyter environment, please rerun this cell to show the HTML representation or trust the notebook. <br />On GitHub, the HTML representation is unable to render, please try loading this page with nbviewer.org.</b></div><div class=\"sk-container\" hidden><div class=\"sk-item\"><div class=\"sk-estimator sk-toggleable\"><input class=\"sk-toggleable__control sk-hidden--visually\" id=\"sk-estimator-id-9\" type=\"checkbox\" checked><label for=\"sk-estimator-id-9\" class=\"sk-toggleable__label sk-toggleable__label-arrow\">LogisticRegression</label><div class=\"sk-toggleable__content\"><pre>LogisticRegression(C=1)</pre></div></div></div></div></div>"
      ],
      "text/plain": [
       "LogisticRegression(C=1)"
      ]
     },
     "execution_count": 24,
     "metadata": {},
     "output_type": "execute_result"
    }
   ],
   "source": [
    "alg = LogisticRegression(C=1,\n",
    "                         penalty='l2')\n",
    "alg.fit(X_train, y_train)"
   ]
  },
  {
   "cell_type": "markdown",
   "metadata": {},
   "source": [
    "используем алгоритм alg, который ранее был обучен на обучающих данных, для прогнозирования значений на тестовых данных X_test. Результат предсказаний сохраняется в переменной preds_logistic."
   ]
  },
  {
   "cell_type": "code",
   "execution_count": 25,
   "metadata": {},
   "outputs": [],
   "source": [
    "preds_logistic = alg.predict(X_test)"
   ]
  },
  {
   "cell_type": "markdown",
   "metadata": {},
   "source": [
    "скачиваем metrics"
   ]
  },
  {
   "cell_type": "code",
   "execution_count": 26,
   "metadata": {},
   "outputs": [],
   "source": [
    "import sklearn.metrics as metrics"
   ]
  },
  {
   "cell_type": "markdown",
   "metadata": {},
   "source": [
    "выводим точность модели"
   ]
  },
  {
   "cell_type": "code",
   "execution_count": 27,
   "metadata": {},
   "outputs": [
    {
     "data": {
      "text/plain": [
       "0.8321789425861038"
      ]
     },
     "execution_count": 27,
     "metadata": {},
     "output_type": "execute_result"
    }
   ],
   "source": [
    "metrics.r2_score(y_test, preds_logistic)"
   ]
  },
  {
   "cell_type": "code",
   "execution_count": 28,
   "metadata": {},
   "outputs": [
    {
     "data": {
      "text/plain": [
       "0.0"
      ]
     },
     "execution_count": 28,
     "metadata": {},
     "output_type": "execute_result"
    }
   ],
   "source": [
    "metrics.median_absolute_error(y_test, preds_logistic)"
   ]
  }
 ],
 "metadata": {
  "kernelspec": {
   "display_name": ".venv",
   "language": "python",
   "name": "python3"
  },
  "language_info": {
   "codemirror_mode": {
    "name": "ipython",
    "version": 3
   },
   "file_extension": ".py",
   "mimetype": "text/x-python",
   "name": "python",
   "nbconvert_exporter": "python",
   "pygments_lexer": "ipython3",
   "version": "3.12.0"
  }
 },
 "nbformat": 4,
 "nbformat_minor": 2
}
